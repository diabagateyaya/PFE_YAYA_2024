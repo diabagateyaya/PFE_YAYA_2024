{
 "cells": [
  {
   "cell_type": "markdown",
   "metadata": {},
   "source": [
    "# IMPORTATION DES VARIABLES"
   ]
  },
  {
   "cell_type": "code",
   "execution_count": 130,
   "metadata": {},
   "outputs": [],
   "source": [
    "\n",
    "# import pandas as pd\n",
    "import numpy as np\n",
    "import seaborn as snss\n",
    "import glob\n",
    "\n",
    "# Les packages de visualisation des données de notre dataset\n",
    "import matplotlib.pyplot as plt\n",
    "import matplotlib.lines as mlines\n",
    "import matplotlib.transforms as mtransforms\n",
    "\n",
    "# packages permettant de faire la classification\n",
    "import lazypredict\n",
    "from lazypredict.Supervised import LazyClassifier\n",
    "from sklearn.datasets import load_breast_cancer\n",
    "from sklearn.model_selection import train_test_split\n",
    "\n",
    "# Packages de classification pour faire des estimations\n",
    "from sklearn.neighbors import KNeighborsClassifier\n",
    "\n",
    "from rich import print\n",
    "from openpyxl import load_workbook\n",
    "import folium as fl\n",
    "import scipy.stats\n",
    "from scipy.stats import pearsonr\n",
    "from sklearn.model_selection import train_test_split\n",
    "from sklearn.preprocessing import StandardScaler\n",
    "from sklearn.linear_model import LinearRegression\n",
    "from sklearn.metrics import r2_score"
   ]
  },
  {
   "cell_type": "markdown",
   "metadata": {},
   "source": [
    "# DEFINITION DES FONCTIONS ET PROCEDURES"
   ]
  },
  {
   "cell_type": "code",
   "execution_count": 161,
   "metadata": {},
   "outputs": [],
   "source": [
    "def fichiers_excel(dossier):\n",
    "    # Get a list of all excel files in the provided folder\n",
    "    excel_files = glob.glob(f'{dossier}/*.xlsx')\n",
    "    file_names = [file.split('\\\\')[-1].split('.')[0] for file in excel_files]\n",
    "    file_dict = {name: file for name, file in zip(file_names, excel_files)}\n",
    "    return file_dict\n",
    "\n",
    "def feuilles_fichier(fichier):\n",
    "    \"\"\"\n",
    "    Retourne une liste des noms de feuilles d'un fichier Excel.\n",
    "    :param excel_file_path: Le chemin complet vers le fichier Excel\n",
    "    :type excel_file_path: str\n",
    "    :return: Une liste contenant les noms de toutes les feuilles du fichier Excel\n",
    "    :rtype: list\n",
    "    \"\"\"\n",
    "    try:\n",
    "        # Charger le workbook\n",
    "        workbook = load_workbook(fichier, read_only=True)\n",
    "        \n",
    "        # Obtenir les noms des feuilles\n",
    "        sheet_names = workbook.sheetnames\n",
    "        \n",
    "        # Fermer le workbook pour libérer les ressources\n",
    "        workbook.close()\n",
    "        \n",
    "        return sheet_names\n",
    "    \n",
    "    except FileNotFoundError:\n",
    "        print(f\"Erreur : Le fichier '{fichier}' n'a pas été trouvé.\")\n",
    "        return []\n",
    "    \n",
    "    except Exception as e:\n",
    "        print(f\"Une erreur s'est produite lors de la lecture du fichier Excel : {str(e)}\")\n",
    "        return []\n",
    "def lire_feuille_fichier(file,sheet):\n",
    "    # Load the first sheet from the first excel file into a pandas dataframe\n",
    "    df = pd.read_excel(file, sheet_name=sheet)\n",
    "    return df\n",
    "\n",
    "\n",
    "def fusion_colonnes_dfs(*dataframes):\n",
    "    \"\"\"\n",
    "    Fusionne toutes les colonnes présentes dans les DataFrames fournis.\n",
    "    :param dataframes: Un nombre variable de DataFrames pandas\n",
    "    :return: Un nouveau DataFrame contenant toutes les colonnes des DataFrames d'entrée\n",
    "    \"\"\"\n",
    "    # Vérifier qu'au moins un DataFrame a été fourni\n",
    "    if len(dataframes) == 0:\n",
    "        raise ValueError(\"Au moins un DataFrame doit être fourni.\")\n",
    "    # Créer une liste pour stocker tous les DataFrames\n",
    "    all_dfs = []\n",
    "    for df in dataframes:\n",
    "        # Vérifier que l'argument est bien un DataFrame\n",
    "        if not isinstance(df, pd.DataFrame):\n",
    "            raise TypeError(f\"Tous les arguments doivent être des DataFrames. Reçu: {type(df)}\")\n",
    "        # Réinitialiser l'index pour éviter les conflits lors de la fusion\n",
    "        df_reset = df.reset_index(drop=True)\n",
    "        all_dfs.append(df_reset)\n",
    "    # Utiliser pd.concat pour fusionner tous les DataFrames\n",
    "    # axis=1 signifie que nous fusionnons horizontalement (par colonnes)\n",
    "    merged_df = pd.concat(all_dfs)\n",
    "    # Supprimer les doublons de colonnes si nécessaire\n",
    "    merged_df = merged_df.loc[:, ~merged_df.columns.duplicated()]\n",
    "    return merged_df\n",
    "\n",
    "def fusion_dfs(list):\n",
    "    \"\"\"\n",
    "    Fusionne toutes les DataFrames fournis dans une liste.\n",
    "    :param list: Une liste de DataFrames pandas\n",
    "    :return: Un nouveau DataFrame contenant toutes les colonnes des DataFrames d'entrée\n",
    "    \"\"\"\n",
    "    # Vérifier qu'au moins un DataFrame a été fourni\n",
    "    if len(list) == 0:\n",
    "        raise ValueError(\"Au moins un DataFrame doit être fourni.\")\n",
    "    # Créer une liste pour stocker tous les DataFrames\n",
    "    all_dfs = []\n",
    "    for df in list:\n",
    "        # Vérifier que l'argument est bien un DataFrame\n",
    "        if not isinstance(df, pd.DataFrame):\n",
    "            raise TypeError(f\"Tous les arguments doivent être des DataFrames. Reçu: {type(df)}\")\n",
    "        else:\n",
    "            pass\n",
    "    fusion=pd.concat(list,ignore_index=True)\n",
    "    return fusion\n",
    "\n",
    "import pandas as pd\n",
    "\n",
    "def dms_to_decimal(degrees, minutes, seconds, direction):\n",
    "    \"\"\"\n",
    "    Convert DMS (Degrees, Minutes, Seconds) to decimal degrees.\n",
    "    \"\"\"\n",
    "    decimal = degrees + minutes / 60 + seconds / 3600\n",
    "    if direction in ['S', 'W']:\n",
    "        decimal = -decimal\n",
    "    return decimal\n",
    "\n",
    "def convert_dms_to_decimal(df, lat_col, lon_col):\n",
    "    \"\"\"\n",
    "    Convert DMS coordinates to decimal coordinates in a DataFrame.\n",
    "    \n",
    "    Parameters:\n",
    "    df (pd.DataFrame): DataFrame containing DMS coordinates.\n",
    "    lat_col (str): Name of the latitude column.\n",
    "    lon_col (str): Name of the longitude column.\n",
    "    \n",
    "    Returns:\n",
    "    pd.DataFrame: DataFrame with new decimal coordinates columns 'lat_decimal' and 'lon_decimal'.\n",
    "    \"\"\"\n",
    "    def parse_dms(dms):\n",
    "        # degrees = float(parts[0].replace('°', ''))\n",
    "        # minutes = float(parts[1].replace('\\'', ''))\n",
    "        # seconds = float(parts[2].replace('\"', ''))\n",
    "        # direction = parts[3]\n",
    "        degrees = float(dms.split('°')[0])\n",
    "        rest=dms.split('°')[1]\n",
    "        minutes = float(rest.split('\\'')[0])\n",
    "        rest=dms.split('\\'')[1]\n",
    "        seconds = float(rest.split('\"')[0])\n",
    "        direction = dms.split('\"')[1]\n",
    "        return degrees, minutes, seconds, direction\n",
    "\n",
    "    df['y'] = df[lat_col].apply(lambda x: dms_to_decimal(*parse_dms(x)))\n",
    "    df['x'] = df[lon_col].apply(lambda x: dms_to_decimal(*parse_dms(x)))\n",
    "\n",
    "    return df\n",
    "def convert_columns_to_float(df, columns):\n",
    "    \"\"\"\n",
    "    Convert specified columns in a DataFrame to float values.\n",
    "    \n",
    "    Parameters:\n",
    "    df (pd.DataFrame): DataFrame to convert.\n",
    "    columns (list): List of column names to convert.\n",
    "    \n",
    "    Returns:\n",
    "    pd.DataFrame: DataFrame with specified columns converted to float values.\n",
    "    \"\"\"\n",
    "    df[columns] = df[columns].astype(float)\n",
    "    return df\n",
    "\n",
    "def render_interactive_map(dataframe, x_column, y_column):\n",
    "    # Create a map centered at the mean of x and y coordinates\n",
    "    map_center = [dataframe[y_column].mean(), dataframe[x_column].mean()]\n",
    "    m = fl.Map(location=map_center, zoom_start=10)\n",
    "\n",
    "    # Add markers for each data point\n",
    "    for index, row in dataframe.iterrows():\n",
    "        fl.Marker([row[y_column], row[x_column]]).add_to(m)\n",
    "\n",
    "    # Display the map\n",
    "    return m\n",
    "\n",
    "def encode_var(dataframe,colonne):\n",
    "    \"\"\"Cette fonction nous permet d'encoder des valeurs qualitative d'une colonnes données en valeurs quantitatives numérique\n",
    "\n",
    "    Args:\n",
    "        dataframe (dataframe): Dataframe dans laquelle nous voulons raemplacer des valeurs de colonnnes\n",
    "        colonne (char): nom de la colonnes à encoder\n",
    "\n",
    "    Returns:\n",
    "        dataframe: dataframe de la nouvelle colonne encodée\n",
    "    \"\"\"\n",
    "    unique=list(dataframe[colonne].unique())\n",
    "    encoding=list(range(len(unique)))\n",
    "    return {\"df\":dataframe[colonne].replace(unique, encoding) , \"encodage\":dict(zip(unique, encoding))}\n",
    "\n",
    "def new_merged_df(dataframe,cols):\n",
    "    \"\"\"\n",
    "    Une fonction python qui permet de restructurer les données de destinations suivant leurs origines \n",
    "\n",
    "    Args:\n",
    "        dataframe (dataframe): dataframe à modifier\n",
    "        cols (liste): liste des colonnes à dupliquer \n",
    "\n",
    "    Returns:\n",
    "        dataframe: dataframe restructurée\n",
    "    \"\"\"\n",
    "    list_dfs=[]\n",
    "    for x in cols:\n",
    "        print(x)\n",
    "        dataframe[\"destination\"]=dataframe[x]\n",
    "        print(dataframe[\"destination\"])\n",
    "        dataframe[\"source\"]=x\n",
    "        # print(dataframe[\"source\"])\n",
    "        list_dfs.append(dataframe.copy(deep=True))\n",
    "        \n",
    "    merged_df=pd.concat(list_dfs,ignore_index=True)\n",
    "    merged_df.drop(columns=cols)\n",
    "    return merged_df\n",
    "\n",
    "\n",
    "def new_merged_df1(dataframe,cols):\n",
    "    \"\"\"Une fonction qui permet de restructurer les données des utilisations suivant leurs origines\n",
    "\n",
    "    Args:\n",
    "        dataframe (dataframe): Dataframe à modifier\n",
    "        cols (list): Liste des colonnes à dupliquer\n",
    "        \n",
    "    Returns:\n",
    "        dataframe: dataframe restructurée\n",
    "    \"\"\"\n",
    "    list_dfs1=[]\n",
    "    for y in cols:\n",
    "        print(y)\n",
    "        dataframe['utilisation']=dataframe[y]\n",
    "        print(dataframe['utilisation'])\n",
    "        dataframe['Origine']=y\n",
    "        list_dfs1.append(dataframe.copy(deep=True))\n",
    "        \n",
    "    merged_df1=pd.concat(list_dfs1,ignore_index=True)\n",
    "    merged_df1.drop(columns=cols)\n",
    "    return merged_df1"
   ]
  },
  {
   "cell_type": "markdown",
   "metadata": {},
   "source": [
    "# INITIALISATION DES VARIABLES"
   ]
  },
  {
   "cell_type": "code",
   "execution_count": 79,
   "metadata": {},
   "outputs": [],
   "source": [
    "dossier= 'DB'"
   ]
  },
  {
   "cell_type": "code",
   "execution_count": null,
   "metadata": {},
   "outputs": [],
   "source": [
    "fichiers=fichiers_excel(dossier)\n",
    "print(f\"Liste des feuilles excel de base de données dans le dossier : \\n {fichiers}\")\n",
    "\n",
    "# Affichage des feuilles de calcul dans un excel file\n",
    "for file in fichiers:\n",
    "    print(f\"Feuilles de calcul dans {file}:\\n\", feuilles_fichier(fichiers[file]))\n",
    "    "
   ]
  },
  {
   "cell_type": "markdown",
   "metadata": {},
   "source": [
    "## Importation des données des feuilles UT; UC et UP de Bouaké"
   ]
  },
  {
   "cell_type": "code",
   "execution_count": 46,
   "metadata": {},
   "outputs": [],
   "source": [
    "UT_bouake=lire_feuille_fichier(fichiers[\"bouake\"],\"UT\")\n",
    "UC_bouake=lire_feuille_fichier(fichiers[\"bouake\"],\"UC\")\n",
    "UP_bouake=lire_feuille_fichier(fichiers[\"bouake\"],\"UP\")"
   ]
  },
  {
   "cell_type": "markdown",
   "metadata": {},
   "source": [
    "## Fusion des dataframes des unités de Bouaké"
   ]
  },
  {
   "cell_type": "code",
   "execution_count": null,
   "metadata": {},
   "outputs": [],
   "source": [
    "df_bouake=fusion_dfs([UT_bouake,UC_bouake,UP_bouake])\n",
    "df_bouake.head()"
   ]
  },
  {
   "cell_type": "code",
   "execution_count": 58,
   "metadata": {},
   "outputs": [],
   "source": [
    "df_bouake.to_excel(\"bouake_fusion.xlsx\")"
   ]
  },
  {
   "cell_type": "code",
   "execution_count": null,
   "metadata": {},
   "outputs": [],
   "source": [
    "df_bouake.info()"
   ]
  },
  {
   "cell_type": "markdown",
   "metadata": {},
   "source": [
    "## Importation des données des feuilles UT; UC et UP de Korhogo"
   ]
  },
  {
   "cell_type": "code",
   "execution_count": 81,
   "metadata": {},
   "outputs": [],
   "source": [
    "UT_korhogo=lire_feuille_fichier(fichiers[\"korhogo\"],\"UT\")\n",
    "UC_korhogo=lire_feuille_fichier(fichiers[\"korhogo\"],\"UC\")\n",
    "UP_korhogo=lire_feuille_fichier(fichiers[\"korhogo\"],\"UP\")"
   ]
  },
  {
   "cell_type": "markdown",
   "metadata": {},
   "source": [
    "## Fusion des dataframes des unités de Bouaké"
   ]
  },
  {
   "cell_type": "code",
   "execution_count": 83,
   "metadata": {},
   "outputs": [],
   "source": [
    "df_korhogo=fusion_dfs([UT_korhogo,UC_korhogo,UP_korhogo])"
   ]
  },
  {
   "cell_type": "code",
   "execution_count": 84,
   "metadata": {},
   "outputs": [],
   "source": [
    "df_korhogo.to_excel(\"korhogo_fusion.xlsx\")"
   ]
  },
  {
   "cell_type": "markdown",
   "metadata": {},
   "source": [
    "# Importation des données de base coordonnées de yamoussoukro"
   ]
  },
  {
   "cell_type": "code",
   "execution_count": null,
   "metadata": {},
   "outputs": [],
   "source": [
    "data_yakro= lire_feuille_fichier(fichiers[\"yakro_coord\"],\"data\")\n",
    "# feuilles_fichier(fichiers[\"yakro_coord\"])\n",
    "df_yakro=convert_dms_to_decimal(data_yakro,'lat_dms', 'lon_dms')\n",
    "print(data_yakro.columns)"
   ]
  },
  {
   "cell_type": "code",
   "execution_count": 36,
   "metadata": {},
   "outputs": [],
   "source": [
    "df_yakro.to_excel(\"yakro_coordonnees.xlsx\")"
   ]
  },
  {
   "cell_type": "code",
   "execution_count": null,
   "metadata": {},
   "outputs": [],
   "source": [
    "render_interactive_map(df_bouake,\"Y\",\"X\")"
   ]
  },
  {
   "cell_type": "markdown",
   "metadata": {},
   "source": [
    "# Du machine learning"
   ]
  },
  {
   "cell_type": "markdown",
   "metadata": {},
   "source": [
    "## pour bouaké"
   ]
  },
  {
   "cell_type": "markdown",
   "metadata": {},
   "source": [
    "### Les destinations"
   ]
  },
  {
   "cell_type": "code",
   "execution_count": null,
   "metadata": {},
   "outputs": [],
   "source": [
    "# initiation de df\n",
    "df = pd.DataFrame(df_bouake)\n",
    "\n",
    "# génération de 4 colonnes Dest1 à Dest4 à dupliquer\n",
    "cols_to_duplicate = [\"Dest{}\".format(x+1) for x in range(4)]\n",
    "\n",
    "# une nouvelle dataframe contenant les valeurs de df et les valeurs des colonnes dupliquées\n",
    "new_df_bouake = new_merged_df(df,cols_to_duplicate)\n",
    "\n",
    "# une nouvelle dataframe contenant les valeurs concaténées de df et de new_df\n",
    "df_bouake = pd.concat([df,new_df_bouake], ignore_index=True)"
   ]
  },
  {
   "cell_type": "code",
   "execution_count": null,
   "metadata": {},
   "outputs": [],
   "source": [
    "# df_cleaned est obtenue en supprimant toutes les valeurs manquantes dans dans la colonne destination de new_df_bouake\n",
    "df_cleaned = df_bouake.dropna(subset='destination')"
   ]
  },
  {
   "cell_type": "code",
   "execution_count": 61,
   "metadata": {},
   "outputs": [],
   "source": [
    "# création d'un fichier excel après suppression des valeurs manquantes dans la colonne destination\n",
    "df_cleaned.to_excel(\"DB\\\\df_cleaned_bouake.xlsx\")"
   ]
  },
  {
   "cell_type": "markdown",
   "metadata": {},
   "source": [
    "### Les usages ou utilisations"
   ]
  },
  {
   "cell_type": "code",
   "execution_count": 62,
   "metadata": {},
   "outputs": [],
   "source": [
    "df_cleaned_bouake = lire_feuille_fichier(fichiers['df_cleaned_bouake'],\"cleaned_b\")"
   ]
  },
  {
   "cell_type": "code",
   "execution_count": null,
   "metadata": {},
   "outputs": [],
   "source": [
    "df1=df_cleaned_bouake\n",
    "\n",
    "# initiation de df2\n",
    "df2 = pd.DataFrame(df1)\n",
    "\n",
    "# génération de 4 colonnes Utilt1 à Util4 à dupliquer\n",
    "cols_to_duplicate1 = [\"Util{}\".format(y+1) for y in range(3)]\n",
    "\n",
    "# une nouvelle dataframe contenant les valeurs de df et les valeurs des colonnes dupliquées\n",
    "new_df_bouake1 = new_merged_df1(df1,cols_to_duplicate1)\n",
    "\n",
    "# une nouvelle dataframe contenant les valeurs concaténées de df et de new_df\n",
    "df_bouake1 = pd.concat([df2,new_df_bouake1], ignore_index=True)\n",
    "df_bouake1"
   ]
  },
  {
   "cell_type": "code",
   "execution_count": null,
   "metadata": {},
   "outputs": [],
   "source": [
    "# df_bouake1.to_excel(\"DB\\\\concat_DU_bouake.xlsx\")"
   ]
  },
  {
   "cell_type": "code",
   "execution_count": 64,
   "metadata": {},
   "outputs": [],
   "source": [
    "# df_cleaned est obtenue en supprimant toutes les valeurs manquantes dans dans la colonne destination de new_df_bouake\n",
    "df_cleaned1 = df_bouake1.dropna(subset='utilisation')\n",
    "df_cleaned1.to_excel(\"DB\\\\df_cleaned_DU_bouake.xlsx\")"
   ]
  },
  {
   "cell_type": "code",
   "execution_count": null,
   "metadata": {},
   "outputs": [],
   "source": [
    "df_bouake = lire_feuille_fichier(fichiers['df_cleaned_DU_bouake'],'clean_du_b')\n",
    "df_bouake"
   ]
  },
  {
   "cell_type": "markdown",
   "metadata": {},
   "source": [
    "### L'encodage"
   ]
  },
  {
   "cell_type": "code",
   "execution_count": 66,
   "metadata": {},
   "outputs": [],
   "source": [
    "# Supposons que vous ayez déjà exécuté les lignes de code pour obtenir les dictionnaires d'encodage\n",
    "# et que vous les ayez stockés dans des variables :\n",
    "encodage_destination = encode_var(df_bouake, \"destination\")['encodage']\n",
    "encodage_utilisation = encode_var(df_bouake, 'utilisation')['encodage']\n",
    "encodage_localprod = encode_var(df_bouake, 'Localisation_producteur')['encodage']\n",
    "encodage_origine = encode_var(df_bouake, 'Origine')['encodage']\n",
    "encodage_source = encode_var(df_bouake, 'source')['encodage']\n",
    "encodage_type = encode_var(df_bouake, 'Type')['encodage']\n",
    "encodage_pro = encode_var(df_bouake, 'PRO')['encodage']\n",
    "encodage_secteur_activite = encode_var(df_bouake,'Secteur_activite')['encodage']\n",
    "\n",
    "# ... et ainsi de suite pour les autres colonnes\n",
    "\n",
    "# Fonction de mapping\n",
    "def mapper(value, encoding_dict):\n",
    "    return encoding_dict.get(value, value)  # Si la valeur n'est pas trouvée, on la garde telle quelle\n",
    "\n",
    "# Application de l'encodage à toutes les colonnes\n",
    "df_bouake['destination'] = df_bouake['destination'].map(lambda x: mapper(x, encodage_destination))\n",
    "df_bouake['utilisation'] = df_bouake['utilisation'].map(lambda x: mapper(x, encodage_utilisation))\n",
    "df_bouake['Localisation_producteur'] = df_bouake['Localisation_producteur'].map(lambda x: mapper(x, encodage_localprod))\n",
    "df_bouake['Origine'] = df_bouake['Origine'].map(lambda x: mapper(x, encodage_origine))\n",
    "df_bouake['source'] = df_bouake['source'].map(lambda x: mapper(x, encodage_source))\n",
    "df_bouake['Type'] = df_bouake['Type'].map(lambda x: mapper(x, encodage_type))\n",
    "df_bouake['PRO'] = df_bouake['PRO'].map(lambda x: mapper(x, encodage_pro))\n",
    "df_bouake['Secteur_activite'] = df_bouake['Secteur_activite'].map(lambda x: mapper(x, encodage_secteur_activite))\n",
    "df_bouake.to_excel('DB\\\\df_encode_bouake.xlsx')"
   ]
  },
  {
   "cell_type": "markdown",
   "metadata": {},
   "source": [
    "## Pour korhogo"
   ]
  },
  {
   "cell_type": "markdown",
   "metadata": {},
   "source": [
    "### Les destinations"
   ]
  },
  {
   "cell_type": "code",
   "execution_count": null,
   "metadata": {},
   "outputs": [],
   "source": [
    "# initiation de df\n",
    "df = pd.DataFrame(df_korhogo)\n",
    "\n",
    "# génération de 4 colonnes Dest1 à Dest4 à dupliquer\n",
    "cols_to_duplicate = [\"Dest{}\".format(x+1) for x in range(4)]\n",
    "\n",
    "# une nouvelle dataframe contenant les valeurs de df et les valeurs des colonnes dupliquées\n",
    "new_df_korhogo = new_merged_df(df,cols_to_duplicate)\n",
    "\n",
    "# une nouvelle dataframe contenant les valeurs concaténées de df et de new_df\n",
    "df_korhogo = pd.concat([df,new_df_korhogo], ignore_index=True)\n",
    "df_korhogo"
   ]
  },
  {
   "cell_type": "code",
   "execution_count": null,
   "metadata": {},
   "outputs": [],
   "source": [
    "# df_cleaned est obtenue en supprimant toutes les valeurs manquantes dans dans la colonne destination de new_df_bouake\n",
    "df_cleaned = df_korhogo.dropna(subset='destination')\n",
    "df_cleaned"
   ]
  },
  {
   "cell_type": "code",
   "execution_count": 97,
   "metadata": {},
   "outputs": [],
   "source": [
    "# création d'un fichier excel après suppression des valeurs manquantes dans la colonne destination\n",
    "df_cleaned.to_excel(\"DB\\\\df_cleaned_korhogo.xlsx\")"
   ]
  },
  {
   "cell_type": "markdown",
   "metadata": {},
   "source": [
    "### Pour les utilisations ou les usages"
   ]
  },
  {
   "cell_type": "code",
   "execution_count": null,
   "metadata": {},
   "outputs": [],
   "source": [
    "df1 = lire_feuille_fichier(fichiers['df_cleaned_korhogo'],'cleaned_k')\n",
    "# initiation de df\n",
    "df2 = pd.DataFrame(df1)\n",
    "\n",
    "# génération de 4 colonnes Utilt1 à Util4 à dupliquer\n",
    "cols_to_duplicate1 = [\"Util{}\".format(y+1) for y in range(3)]\n",
    "\n",
    "# une nouvelle dataframe contenant les valeurs de df et les valeurs des colonnes dupliquées\n",
    "new_df_korhogo1 = new_merged_df1(df1,cols_to_duplicate1)\n",
    "\n",
    "# une nouvelle dataframe contenant les valeurs concaténées de df et de new_df\n",
    "df_korhog1 = pd.concat([df2,new_df_korhogo1], ignore_index=True)\n",
    "df_korhog1"
   ]
  },
  {
   "cell_type": "code",
   "execution_count": 102,
   "metadata": {},
   "outputs": [],
   "source": [
    "# df_cleaned est obtenue en supprimant toutes les valeurs manquantes dans dans la colonne destination de new_df_bouake\n",
    "df_cleaned1 = df_korhog1.dropna(subset='utilisation')\n",
    "df_cleaned1.to_excel(\"DB\\\\df_cleaned_DU_korhogo.xlsx\")"
   ]
  },
  {
   "cell_type": "code",
   "execution_count": null,
   "metadata": {},
   "outputs": [],
   "source": [
    "df_korhogo = lire_feuille_fichier(fichiers['df_cleaned_DU_korhogo'],'clean_du_k')\n",
    "df_korhogo"
   ]
  },
  {
   "cell_type": "code",
   "execution_count": 194,
   "metadata": {},
   "outputs": [],
   "source": [
    "df_korhogo.to_excel('DB\\\\verife.xlsx')"
   ]
  },
  {
   "cell_type": "markdown",
   "metadata": {},
   "source": [
    "### L'encodage"
   ]
  },
  {
   "cell_type": "code",
   "execution_count": 108,
   "metadata": {},
   "outputs": [],
   "source": [
    "# Supposons que vous ayez déjà exécuté les lignes de code pour obtenir les dictionnaires d'encodage\n",
    "# et que vous les ayez stockés dans des variables :\n",
    "encodage_destination = encode_var(df_korhogo, \"destination\")['encodage']\n",
    "encodage_utilisation = encode_var(df_korhogo, 'utilisation')['encodage']\n",
    "encodage_localprod = encode_var(df_korhogo, 'Localisation_producteur')['encodage']\n",
    "encodage_origine = encode_var(df_korhogo, 'Origine')['encodage']\n",
    "encodage_source = encode_var(df_korhogo, 'source')['encodage']\n",
    "encodage_type = encode_var(df_korhogo, 'Type')['encodage']\n",
    "encodage_pro = encode_var(df_korhogo, 'PRO')['encodage']\n",
    "encodage_secteur_activite = encode_var(df_korhogo,'Secteur_activite')['encodage']\n",
    "\n",
    "# ... et ainsi de suite pour les autres colonnes\n",
    "\n",
    "# Fonction de mapping\n",
    "def mapper(value, encoding_dict):\n",
    "    return encoding_dict.get(value, value)  # Si la valeur n'est pas trouvée, on la garde telle quelle\n",
    "\n",
    "# Application de l'encodage à toutes les colonnes\n",
    "df_bouake['destination'] = df_bouake['destination'].map(lambda x: mapper(x, encodage_destination))\n",
    "df_bouake['utilisation'] = df_bouake['utilisation'].map(lambda x: mapper(x, encodage_utilisation))\n",
    "df_bouake['Localisation_producteur'] = df_bouake['Localisation_producteur'].map(lambda x: mapper(x, encodage_localprod))\n",
    "df_bouake['Origine'] = df_bouake['Origine'].map(lambda x: mapper(x, encodage_origine))\n",
    "df_bouake['source'] = df_bouake['source'].map(lambda x: mapper(x, encodage_source))\n",
    "df_bouake['Type'] = df_bouake['Type'].map(lambda x: mapper(x, encodage_type))\n",
    "df_bouake['PRO'] = df_bouake['PRO'].map(lambda x: mapper(x, encodage_pro))\n",
    "df_bouake['Secteur_activite'] = df_bouake['Secteur_activite'].map(lambda x: mapper(x, encodage_secteur_activite))\n",
    "df_bouake.to_excel('DB\\\\df_encode_korhogo.xlsx')"
   ]
  },
  {
   "cell_type": "markdown",
   "metadata": {},
   "source": [
    "## Fusion des données de korhogo et de bouaké"
   ]
  },
  {
   "cell_type": "code",
   "execution_count": 123,
   "metadata": {},
   "outputs": [],
   "source": [
    "# initiation des données de bouake et de korhogo pour faire la fusion des données\n",
    "#   pour bouake\n",
    "df_bouake=lire_feuille_fichier(fichiers['df_encode_bouake'],'encode_b')\n",
    "#   pour korhogo\n",
    "df_korhogo=lire_feuille_fichier(fichiers['df_encode_korhogo'],'encode_k')"
   ]
  },
  {
   "cell_type": "code",
   "execution_count": 124,
   "metadata": {},
   "outputs": [],
   "source": [
    "# La fusion des données de yakro et celles de krhogo\n",
    "df_bouake_korhogo =fusion_dfs([df_bouake,df_korhogo])\n",
    "df_bouake_korhogo.to_excel('DB\\\\bouake_korhogo.xlsx')"
   ]
  },
  {
   "cell_type": "markdown",
   "metadata": {},
   "source": [
    "## Application du scikit learning"
   ]
  },
  {
   "cell_type": "code",
   "execution_count": 167,
   "metadata": {},
   "outputs": [],
   "source": [
    "# initiation: dfs exprime ici la dataframe de toutes les dataframes utilisées (bouaké, korhogo)\n",
    "dfs = lire_feuille_fichier(fichiers['bouake_korhogo'],'bk')"
   ]
  },
  {
   "cell_type": "markdown",
   "metadata": {},
   "source": [
    "### Lazypredict"
   ]
  },
  {
   "cell_type": "code",
   "execution_count": null,
   "metadata": {},
   "outputs": [],
   "source": [
    "# # Lazypredict est un racourci pour la modélisation prédictive\n",
    "# from lazypredict.Supervised import LazyClassifier\n",
    "# from sklearn.datasets import load_breast_cancer\n",
    "# from sklearn.model_selection import train_test_split\n",
    "# target = 'utilisation'\n",
    "# x = dfs.loc[:, dfs.columns != target]\n",
    "# y = dfs.loc[:, dfs.columns == target]\n",
    "# # X = dfs.data\n",
    "# # y= dfs.target\n",
    "\n",
    "# X_train, X_test, y_train, y_test = train_test_split(X, y,test_size=0.2,random_state =900)\n",
    "\n",
    "# clf = LazyClassifier(verbose=0,ignore_warnings=True, custom_metric=None)\n",
    "# models,predictions = clf.fit(X_train, X_test, y_train, y_test)\n",
    "# print(models)"
   ]
  },
  {
   "cell_type": "code",
   "execution_count": 206,
   "metadata": {},
   "outputs": [],
   "source": [
    "from sklearn.impute import KNNImputer\n",
    "\n",
    "# Initialisation de l'imputateur KNN\n",
    "imputer = KNNImputer(n_neighbors=2)\n",
    "\n",
    "# Appliquer l'imputateur sur les données (en supposant qu'elles sont toutes numériques)\n",
    "bouake_korhogo_imputed = pd.DataFrame(imputer.fit_transform(dfs), columns=dfs.columns)\n",
    "bouake_korhogo_imputed.to_excel('DB\\\\b_k_imputed.xlsx')"
   ]
  },
  {
   "cell_type": "code",
   "execution_count": 216,
   "metadata": {},
   "outputs": [
    {
     "data": {
      "text/html": [
       "<pre style=\"white-space:pre;overflow-x:auto;line-height:normal;font-family:Menlo,'DejaVu Sans Mono',consolas,'Courier New',monospace\">Dimensions de X: <span style=\"font-weight: bold\">(</span><span style=\"color: #008080; text-decoration-color: #008080; font-weight: bold\">1294</span>, <span style=\"color: #008080; text-decoration-color: #008080; font-weight: bold\">20</span><span style=\"font-weight: bold\">)</span>\n",
       "</pre>\n"
      ],
      "text/plain": [
       "Dimensions de X: \u001b[1m(\u001b[0m\u001b[1;36m1294\u001b[0m, \u001b[1;36m20\u001b[0m\u001b[1m)\u001b[0m\n"
      ]
     },
     "metadata": {},
     "output_type": "display_data"
    },
    {
     "data": {
      "text/html": [
       "<pre style=\"white-space:pre;overflow-x:auto;line-height:normal;font-family:Menlo,'DejaVu Sans Mono',consolas,'Courier New',monospace\">Dimensions de y: <span style=\"font-weight: bold\">(</span><span style=\"color: #008080; text-decoration-color: #008080; font-weight: bold\">1294</span>,<span style=\"font-weight: bold\">)</span>\n",
       "</pre>\n"
      ],
      "text/plain": [
       "Dimensions de y: \u001b[1m(\u001b[0m\u001b[1;36m1294\u001b[0m,\u001b[1m)\u001b[0m\n"
      ]
     },
     "metadata": {},
     "output_type": "display_data"
    },
    {
     "data": {
      "text/html": [
       "<pre style=\"white-space:pre;overflow-x:auto;line-height:normal;font-family:Menlo,'DejaVu Sans Mono',consolas,'Courier New',monospace\">Dimensions de X_train: <span style=\"font-weight: bold\">(</span><span style=\"color: #008080; text-decoration-color: #008080; font-weight: bold\">1035</span>, <span style=\"color: #008080; text-decoration-color: #008080; font-weight: bold\">20</span><span style=\"font-weight: bold\">)</span>\n",
       "</pre>\n"
      ],
      "text/plain": [
       "Dimensions de X_train: \u001b[1m(\u001b[0m\u001b[1;36m1035\u001b[0m, \u001b[1;36m20\u001b[0m\u001b[1m)\u001b[0m\n"
      ]
     },
     "metadata": {},
     "output_type": "display_data"
    },
    {
     "data": {
      "text/html": [
       "<pre style=\"white-space:pre;overflow-x:auto;line-height:normal;font-family:Menlo,'DejaVu Sans Mono',consolas,'Courier New',monospace\">Dimensions de y_train: <span style=\"font-weight: bold\">(</span><span style=\"color: #008080; text-decoration-color: #008080; font-weight: bold\">1035</span>,<span style=\"font-weight: bold\">)</span>\n",
       "</pre>\n"
      ],
      "text/plain": [
       "Dimensions de y_train: \u001b[1m(\u001b[0m\u001b[1;36m1035\u001b[0m,\u001b[1m)\u001b[0m\n"
      ]
     },
     "metadata": {},
     "output_type": "display_data"
    },
    {
     "name": "stderr",
     "output_type": "stream",
     "text": [
      " 97%|█████████▋| 30/31 [00:02<00:00, 12.34it/s]"
     ]
    },
    {
     "name": "stdout",
     "output_type": "stream",
     "text": [
      "[LightGBM] [Info] Auto-choosing col-wise multi-threading, the overhead of testing was 0.000546 seconds.\n",
      "You can set `force_col_wise=true` to remove the overhead.\n",
      "[LightGBM] [Info] Total Bins 1415\n",
      "[LightGBM] [Info] Number of data points in the train set: 1035, number of used features: 19\n",
      "[LightGBM] [Info] Start training from score -1.053279\n",
      "[LightGBM] [Info] Start training from score -1.231730\n",
      "[LightGBM] [Info] Start training from score -1.023263\n",
      "[LightGBM] [Warning] No further splits with positive gain, best gain: -inf\n",
      "[LightGBM] [Warning] No further splits with positive gain, best gain: -inf\n",
      "[LightGBM] [Warning] No further splits with positive gain, best gain: -inf\n",
      "[LightGBM] [Warning] No further splits with positive gain, best gain: -inf\n",
      "[LightGBM] [Warning] No further splits with positive gain, best gain: -inf\n",
      "[LightGBM] [Warning] No further splits with positive gain, best gain: -inf\n",
      "[LightGBM] [Warning] No further splits with positive gain, best gain: -inf\n",
      "[LightGBM] [Warning] No further splits with positive gain, best gain: -inf\n",
      "[LightGBM] [Warning] No further splits with positive gain, best gain: -inf\n"
     ]
    },
    {
     "name": "stderr",
     "output_type": "stream",
     "text": [
      "100%|██████████| 31/31 [00:02<00:00, 10.39it/s]"
     ]
    },
    {
     "name": "stdout",
     "output_type": "stream",
     "text": [
      "[LightGBM] [Warning] No further splits with positive gain, best gain: -inf\n",
      "[LightGBM] [Warning] No further splits with positive gain, best gain: -inf\n",
      "[LightGBM] [Warning] No further splits with positive gain, best gain: -inf\n",
      "[LightGBM] [Warning] No further splits with positive gain, best gain: -inf\n",
      "[LightGBM] [Warning] No further splits with positive gain, best gain: -inf\n",
      "[LightGBM] [Warning] No further splits with positive gain, best gain: -inf\n",
      "[LightGBM] [Warning] No further splits with positive gain, best gain: -inf\n",
      "[LightGBM] [Warning] No further splits with positive gain, best gain: -inf\n",
      "[LightGBM] [Warning] No further splits with positive gain, best gain: -inf\n",
      "[LightGBM] [Warning] No further splits with positive gain, best gain: -inf\n",
      "[LightGBM] [Warning] No further splits with positive gain, best gain: -inf\n",
      "[LightGBM] [Warning] No further splits with positive gain, best gain: -inf\n",
      "[LightGBM] [Warning] No further splits with positive gain, best gain: -inf\n",
      "[LightGBM] [Warning] No further splits with positive gain, best gain: -inf\n",
      "[LightGBM] [Warning] No further splits with positive gain, best gain: -inf\n",
      "[LightGBM] [Warning] No further splits with positive gain, best gain: -inf\n",
      "[LightGBM] [Warning] No further splits with positive gain, best gain: -inf\n",
      "[LightGBM] [Warning] No further splits with positive gain, best gain: -inf\n",
      "[LightGBM] [Warning] No further splits with positive gain, best gain: -inf\n",
      "[LightGBM] [Warning] No further splits with positive gain, best gain: -inf\n",
      "[LightGBM] [Warning] No further splits with positive gain, best gain: -inf\n",
      "[LightGBM] [Warning] No further splits with positive gain, best gain: -inf\n",
      "[LightGBM] [Warning] No further splits with positive gain, best gain: -inf\n",
      "[LightGBM] [Warning] No further splits with positive gain, best gain: -inf\n",
      "[LightGBM] [Warning] No further splits with positive gain, best gain: -inf\n",
      "[LightGBM] [Warning] No further splits with positive gain, best gain: -inf\n",
      "[LightGBM] [Warning] No further splits with positive gain, best gain: -inf\n",
      "[LightGBM] [Warning] No further splits with positive gain, best gain: -inf\n",
      "[LightGBM] [Warning] No further splits with positive gain, best gain: -inf\n",
      "[LightGBM] [Warning] No further splits with positive gain, best gain: -inf\n",
      "[LightGBM] [Warning] No further splits with positive gain, best gain: -inf\n",
      "[LightGBM] [Warning] No further splits with positive gain, best gain: -inf\n",
      "[LightGBM] [Warning] No further splits with positive gain, best gain: -inf\n",
      "[LightGBM] [Warning] No further splits with positive gain, best gain: -inf\n",
      "[LightGBM] [Warning] No further splits with positive gain, best gain: -inf\n",
      "[LightGBM] [Warning] No further splits with positive gain, best gain: -inf\n",
      "[LightGBM] [Warning] No further splits with positive gain, best gain: -inf\n",
      "[LightGBM] [Warning] No further splits with positive gain, best gain: -inf\n",
      "[LightGBM] [Warning] No further splits with positive gain, best gain: -inf\n",
      "[LightGBM] [Warning] No further splits with positive gain, best gain: -inf\n",
      "[LightGBM] [Warning] No further splits with positive gain, best gain: -inf\n",
      "[LightGBM] [Warning] No further splits with positive gain, best gain: -inf\n",
      "[LightGBM] [Warning] No further splits with positive gain, best gain: -inf\n",
      "[LightGBM] [Warning] No further splits with positive gain, best gain: -inf\n",
      "[LightGBM] [Warning] No further splits with positive gain, best gain: -inf\n",
      "[LightGBM] [Warning] No further splits with positive gain, best gain: -inf\n",
      "[LightGBM] [Warning] No further splits with positive gain, best gain: -inf\n",
      "[LightGBM] [Warning] No further splits with positive gain, best gain: -inf\n",
      "[LightGBM] [Warning] No further splits with positive gain, best gain: -inf\n",
      "[LightGBM] [Warning] No further splits with positive gain, best gain: -inf\n",
      "[LightGBM] [Warning] No further splits with positive gain, best gain: -inf\n",
      "[LightGBM] [Warning] No further splits with positive gain, best gain: -inf\n",
      "[LightGBM] [Warning] No further splits with positive gain, best gain: -inf\n",
      "[LightGBM] [Warning] No further splits with positive gain, best gain: -inf\n",
      "[LightGBM] [Warning] No further splits with positive gain, best gain: -inf\n",
      "[LightGBM] [Warning] No further splits with positive gain, best gain: -inf\n",
      "[LightGBM] [Warning] No further splits with positive gain, best gain: -inf\n",
      "[LightGBM] [Warning] No further splits with positive gain, best gain: -inf\n",
      "[LightGBM] [Warning] No further splits with positive gain, best gain: -inf\n",
      "[LightGBM] [Warning] No further splits with positive gain, best gain: -inf\n",
      "[LightGBM] [Warning] No further splits with positive gain, best gain: -inf\n",
      "[LightGBM] [Warning] No further splits with positive gain, best gain: -inf\n",
      "[LightGBM] [Warning] No further splits with positive gain, best gain: -inf\n"
     ]
    },
    {
     "name": "stderr",
     "output_type": "stream",
     "text": [
      "\n"
     ]
    },
    {
     "data": {
      "text/html": [
       "<pre style=\"white-space:pre;overflow-x:auto;line-height:normal;font-family:Menlo,'DejaVu Sans Mono',consolas,'Courier New',monospace\">                               Accuracy  Balanced Accuracy ROC AUC  F1 Score  \\\n",
       "Model                                                                          \n",
       "RandomForestClassifier             <span style=\"color: #008080; text-decoration-color: #008080; font-weight: bold\">1.00</span>               <span style=\"color: #008080; text-decoration-color: #008080; font-weight: bold\">1.00</span>    <span style=\"color: #800080; text-decoration-color: #800080; font-style: italic\">None</span>      <span style=\"color: #008080; text-decoration-color: #008080; font-weight: bold\">1.00</span>   \n",
       "XGBClassifier                      <span style=\"color: #008080; text-decoration-color: #008080; font-weight: bold\">1.00</span>               <span style=\"color: #008080; text-decoration-color: #008080; font-weight: bold\">1.00</span>    <span style=\"color: #800080; text-decoration-color: #800080; font-style: italic\">None</span>      <span style=\"color: #008080; text-decoration-color: #008080; font-weight: bold\">1.00</span>   \n",
       "LGBMClassifier                     <span style=\"color: #008080; text-decoration-color: #008080; font-weight: bold\">1.00</span>               <span style=\"color: #008080; text-decoration-color: #008080; font-weight: bold\">1.00</span>    <span style=\"color: #800080; text-decoration-color: #800080; font-style: italic\">None</span>      <span style=\"color: #008080; text-decoration-color: #008080; font-weight: bold\">1.00</span>   \n",
       "DecisionTreeClassifier             <span style=\"color: #008080; text-decoration-color: #008080; font-weight: bold\">1.00</span>               <span style=\"color: #008080; text-decoration-color: #008080; font-weight: bold\">1.00</span>    <span style=\"color: #800080; text-decoration-color: #800080; font-style: italic\">None</span>      <span style=\"color: #008080; text-decoration-color: #008080; font-weight: bold\">1.00</span>   \n",
       "BaggingClassifier                  <span style=\"color: #008080; text-decoration-color: #008080; font-weight: bold\">1.00</span>               <span style=\"color: #008080; text-decoration-color: #008080; font-weight: bold\">1.00</span>    <span style=\"color: #800080; text-decoration-color: #800080; font-style: italic\">None</span>      <span style=\"color: #008080; text-decoration-color: #008080; font-weight: bold\">1.00</span>   \n",
       "ExtraTreesClassifier               <span style=\"color: #008080; text-decoration-color: #008080; font-weight: bold\">0.99</span>               <span style=\"color: #008080; text-decoration-color: #008080; font-weight: bold\">0.99</span>    <span style=\"color: #800080; text-decoration-color: #800080; font-style: italic\">None</span>      <span style=\"color: #008080; text-decoration-color: #008080; font-weight: bold\">0.99</span>   \n",
       "ExtraTreeClassifier                <span style=\"color: #008080; text-decoration-color: #008080; font-weight: bold\">0.88</span>               <span style=\"color: #008080; text-decoration-color: #008080; font-weight: bold\">0.88</span>    <span style=\"color: #800080; text-decoration-color: #800080; font-style: italic\">None</span>      <span style=\"color: #008080; text-decoration-color: #008080; font-weight: bold\">0.88</span>   \n",
       "LabelSpreading                     <span style=\"color: #008080; text-decoration-color: #008080; font-weight: bold\">0.79</span>               <span style=\"color: #008080; text-decoration-color: #008080; font-weight: bold\">0.78</span>    <span style=\"color: #800080; text-decoration-color: #800080; font-style: italic\">None</span>      <span style=\"color: #008080; text-decoration-color: #008080; font-weight: bold\">0.79</span>   \n",
       "LabelPropagation                   <span style=\"color: #008080; text-decoration-color: #008080; font-weight: bold\">0.79</span>               <span style=\"color: #008080; text-decoration-color: #008080; font-weight: bold\">0.78</span>    <span style=\"color: #800080; text-decoration-color: #800080; font-style: italic\">None</span>      <span style=\"color: #008080; text-decoration-color: #008080; font-weight: bold\">0.79</span>   \n",
       "KNeighborsClassifier               <span style=\"color: #008080; text-decoration-color: #008080; font-weight: bold\">0.78</span>               <span style=\"color: #008080; text-decoration-color: #008080; font-weight: bold\">0.77</span>    <span style=\"color: #800080; text-decoration-color: #800080; font-style: italic\">None</span>      <span style=\"color: #008080; text-decoration-color: #008080; font-weight: bold\">0.78</span>   \n",
       "NuSVC                              <span style=\"color: #008080; text-decoration-color: #008080; font-weight: bold\">0.70</span>               <span style=\"color: #008080; text-decoration-color: #008080; font-weight: bold\">0.69</span>    <span style=\"color: #800080; text-decoration-color: #800080; font-style: italic\">None</span>      <span style=\"color: #008080; text-decoration-color: #008080; font-weight: bold\">0.70</span>   \n",
       "SVC                                <span style=\"color: #008080; text-decoration-color: #008080; font-weight: bold\">0.69</span>               <span style=\"color: #008080; text-decoration-color: #008080; font-weight: bold\">0.67</span>    <span style=\"color: #800080; text-decoration-color: #800080; font-style: italic\">None</span>      <span style=\"color: #008080; text-decoration-color: #008080; font-weight: bold\">0.68</span>   \n",
       "AdaBoostClassifier                 <span style=\"color: #008080; text-decoration-color: #008080; font-weight: bold\">0.66</span>               <span style=\"color: #008080; text-decoration-color: #008080; font-weight: bold\">0.62</span>    <span style=\"color: #800080; text-decoration-color: #800080; font-style: italic\">None</span>      <span style=\"color: #008080; text-decoration-color: #008080; font-weight: bold\">0.65</span>   \n",
       "LinearDiscriminantAnalysis         <span style=\"color: #008080; text-decoration-color: #008080; font-weight: bold\">0.58</span>               <span style=\"color: #008080; text-decoration-color: #008080; font-weight: bold\">0.57</span>    <span style=\"color: #800080; text-decoration-color: #800080; font-style: italic\">None</span>      <span style=\"color: #008080; text-decoration-color: #008080; font-weight: bold\">0.58</span>   \n",
       "LinearSVC                          <span style=\"color: #008080; text-decoration-color: #008080; font-weight: bold\">0.58</span>               <span style=\"color: #008080; text-decoration-color: #008080; font-weight: bold\">0.56</span>    <span style=\"color: #800080; text-decoration-color: #800080; font-style: italic\">None</span>      <span style=\"color: #008080; text-decoration-color: #008080; font-weight: bold\">0.57</span>   \n",
       "CalibratedClassifierCV             <span style=\"color: #008080; text-decoration-color: #008080; font-weight: bold\">0.57</span>               <span style=\"color: #008080; text-decoration-color: #008080; font-weight: bold\">0.56</span>    <span style=\"color: #800080; text-decoration-color: #800080; font-style: italic\">None</span>      <span style=\"color: #008080; text-decoration-color: #008080; font-weight: bold\">0.56</span>   \n",
       "RidgeClassifier                    <span style=\"color: #008080; text-decoration-color: #008080; font-weight: bold\">0.55</span>               <span style=\"color: #008080; text-decoration-color: #008080; font-weight: bold\">0.54</span>    <span style=\"color: #800080; text-decoration-color: #800080; font-style: italic\">None</span>      <span style=\"color: #008080; text-decoration-color: #008080; font-weight: bold\">0.55</span>   \n",
       "RidgeClassifierCV                  <span style=\"color: #008080; text-decoration-color: #008080; font-weight: bold\">0.55</span>               <span style=\"color: #008080; text-decoration-color: #008080; font-weight: bold\">0.54</span>    <span style=\"color: #800080; text-decoration-color: #800080; font-style: italic\">None</span>      <span style=\"color: #008080; text-decoration-color: #008080; font-weight: bold\">0.55</span>   \n",
       "LogisticRegression                 <span style=\"color: #008080; text-decoration-color: #008080; font-weight: bold\">0.55</span>               <span style=\"color: #008080; text-decoration-color: #008080; font-weight: bold\">0.53</span>    <span style=\"color: #800080; text-decoration-color: #800080; font-style: italic\">None</span>      <span style=\"color: #008080; text-decoration-color: #008080; font-weight: bold\">0.54</span>   \n",
       "PassiveAggressiveClassifier        <span style=\"color: #008080; text-decoration-color: #008080; font-weight: bold\">0.51</span>               <span style=\"color: #008080; text-decoration-color: #008080; font-weight: bold\">0.51</span>    <span style=\"color: #800080; text-decoration-color: #800080; font-style: italic\">None</span>      <span style=\"color: #008080; text-decoration-color: #008080; font-weight: bold\">0.51</span>   \n",
       "NearestCentroid                    <span style=\"color: #008080; text-decoration-color: #008080; font-weight: bold\">0.52</span>               <span style=\"color: #008080; text-decoration-color: #008080; font-weight: bold\">0.51</span>    <span style=\"color: #800080; text-decoration-color: #800080; font-style: italic\">None</span>      <span style=\"color: #008080; text-decoration-color: #008080; font-weight: bold\">0.51</span>   \n",
       "SGDClassifier                      <span style=\"color: #008080; text-decoration-color: #008080; font-weight: bold\">0.50</span>               <span style=\"color: #008080; text-decoration-color: #008080; font-weight: bold\">0.50</span>    <span style=\"color: #800080; text-decoration-color: #800080; font-style: italic\">None</span>      <span style=\"color: #008080; text-decoration-color: #008080; font-weight: bold\">0.50</span>   \n",
       "Perceptron                         <span style=\"color: #008080; text-decoration-color: #008080; font-weight: bold\">0.43</span>               <span style=\"color: #008080; text-decoration-color: #008080; font-weight: bold\">0.44</span>    <span style=\"color: #800080; text-decoration-color: #800080; font-style: italic\">None</span>      <span style=\"color: #008080; text-decoration-color: #008080; font-weight: bold\">0.43</span>   \n",
       "BernoulliNB                        <span style=\"color: #008080; text-decoration-color: #008080; font-weight: bold\">0.42</span>               <span style=\"color: #008080; text-decoration-color: #008080; font-weight: bold\">0.40</span>    <span style=\"color: #800080; text-decoration-color: #800080; font-style: italic\">None</span>      <span style=\"color: #008080; text-decoration-color: #008080; font-weight: bold\">0.41</span>   \n",
       "GaussianNB                         <span style=\"color: #008080; text-decoration-color: #008080; font-weight: bold\">0.44</span>               <span style=\"color: #008080; text-decoration-color: #008080; font-weight: bold\">0.37</span>    <span style=\"color: #800080; text-decoration-color: #800080; font-style: italic\">None</span>      <span style=\"color: #008080; text-decoration-color: #008080; font-weight: bold\">0.32</span>   \n",
       "QuadraticDiscriminantAnalysis      <span style=\"color: #008080; text-decoration-color: #008080; font-weight: bold\">0.44</span>               <span style=\"color: #008080; text-decoration-color: #008080; font-weight: bold\">0.37</span>    <span style=\"color: #800080; text-decoration-color: #800080; font-style: italic\">None</span>      <span style=\"color: #008080; text-decoration-color: #008080; font-weight: bold\">0.30</span>   \n",
       "DummyClassifier                    <span style=\"color: #008080; text-decoration-color: #008080; font-weight: bold\">0.40</span>               <span style=\"color: #008080; text-decoration-color: #008080; font-weight: bold\">0.33</span>    <span style=\"color: #800080; text-decoration-color: #800080; font-style: italic\">None</span>      <span style=\"color: #008080; text-decoration-color: #008080; font-weight: bold\">0.23</span>   \n",
       "\n",
       "                               Time Taken  \n",
       "Model                                      \n",
       "RandomForestClassifier               <span style=\"color: #008080; text-decoration-color: #008080; font-weight: bold\">0.40</span>  \n",
       "XGBClassifier                        <span style=\"color: #008080; text-decoration-color: #008080; font-weight: bold\">0.26</span>  \n",
       "LGBMClassifier                       <span style=\"color: #008080; text-decoration-color: #008080; font-weight: bold\">0.43</span>  \n",
       "DecisionTreeClassifier               <span style=\"color: #008080; text-decoration-color: #008080; font-weight: bold\">0.01</span>  \n",
       "BaggingClassifier                    <span style=\"color: #008080; text-decoration-color: #008080; font-weight: bold\">0.08</span>  \n",
       "ExtraTreesClassifier                 <span style=\"color: #008080; text-decoration-color: #008080; font-weight: bold\">0.27</span>  \n",
       "ExtraTreeClassifier                  <span style=\"color: #008080; text-decoration-color: #008080; font-weight: bold\">0.03</span>  \n",
       "LabelSpreading                       <span style=\"color: #008080; text-decoration-color: #008080; font-weight: bold\">0.10</span>  \n",
       "LabelPropagation                     <span style=\"color: #008080; text-decoration-color: #008080; font-weight: bold\">0.11</span>  \n",
       "KNeighborsClassifier                 <span style=\"color: #008080; text-decoration-color: #008080; font-weight: bold\">0.04</span>  \n",
       "NuSVC                                <span style=\"color: #008080; text-decoration-color: #008080; font-weight: bold\">0.20</span>  \n",
       "SVC                                  <span style=\"color: #008080; text-decoration-color: #008080; font-weight: bold\">0.12</span>  \n",
       "AdaBoostClassifier                   <span style=\"color: #008080; text-decoration-color: #008080; font-weight: bold\">0.28</span>  \n",
       "LinearDiscriminantAnalysis           <span style=\"color: #008080; text-decoration-color: #008080; font-weight: bold\">0.03</span>  \n",
       "LinearSVC                            <span style=\"color: #008080; text-decoration-color: #008080; font-weight: bold\">0.04</span>  \n",
       "CalibratedClassifierCV               <span style=\"color: #008080; text-decoration-color: #008080; font-weight: bold\">0.25</span>  \n",
       "RidgeClassifier                      <span style=\"color: #008080; text-decoration-color: #008080; font-weight: bold\">0.02</span>  \n",
       "RidgeClassifierCV                    <span style=\"color: #008080; text-decoration-color: #008080; font-weight: bold\">0.04</span>  \n",
       "LogisticRegression                   <span style=\"color: #008080; text-decoration-color: #008080; font-weight: bold\">0.05</span>  \n",
       "PassiveAggressiveClassifier          <span style=\"color: #008080; text-decoration-color: #008080; font-weight: bold\">0.03</span>  \n",
       "NearestCentroid                      <span style=\"color: #008080; text-decoration-color: #008080; font-weight: bold\">0.03</span>  \n",
       "SGDClassifier                        <span style=\"color: #008080; text-decoration-color: #008080; font-weight: bold\">0.02</span>  \n",
       "Perceptron                           <span style=\"color: #008080; text-decoration-color: #008080; font-weight: bold\">0.03</span>  \n",
       "BernoulliNB                          <span style=\"color: #008080; text-decoration-color: #008080; font-weight: bold\">0.05</span>  \n",
       "GaussianNB                           <span style=\"color: #008080; text-decoration-color: #008080; font-weight: bold\">0.02</span>  \n",
       "QuadraticDiscriminantAnalysis        <span style=\"color: #008080; text-decoration-color: #008080; font-weight: bold\">0.00</span>  \n",
       "DummyClassifier                      <span style=\"color: #008080; text-decoration-color: #008080; font-weight: bold\">0.03</span>  \n",
       "</pre>\n"
      ],
      "text/plain": [
       "                               Accuracy  Balanced Accuracy ROC AUC  F1 Score  \\\n",
       "Model                                                                          \n",
       "RandomForestClassifier             \u001b[1;36m1.00\u001b[0m               \u001b[1;36m1.00\u001b[0m    \u001b[3;35mNone\u001b[0m      \u001b[1;36m1.00\u001b[0m   \n",
       "XGBClassifier                      \u001b[1;36m1.00\u001b[0m               \u001b[1;36m1.00\u001b[0m    \u001b[3;35mNone\u001b[0m      \u001b[1;36m1.00\u001b[0m   \n",
       "LGBMClassifier                     \u001b[1;36m1.00\u001b[0m               \u001b[1;36m1.00\u001b[0m    \u001b[3;35mNone\u001b[0m      \u001b[1;36m1.00\u001b[0m   \n",
       "DecisionTreeClassifier             \u001b[1;36m1.00\u001b[0m               \u001b[1;36m1.00\u001b[0m    \u001b[3;35mNone\u001b[0m      \u001b[1;36m1.00\u001b[0m   \n",
       "BaggingClassifier                  \u001b[1;36m1.00\u001b[0m               \u001b[1;36m1.00\u001b[0m    \u001b[3;35mNone\u001b[0m      \u001b[1;36m1.00\u001b[0m   \n",
       "ExtraTreesClassifier               \u001b[1;36m0.99\u001b[0m               \u001b[1;36m0.99\u001b[0m    \u001b[3;35mNone\u001b[0m      \u001b[1;36m0.99\u001b[0m   \n",
       "ExtraTreeClassifier                \u001b[1;36m0.88\u001b[0m               \u001b[1;36m0.88\u001b[0m    \u001b[3;35mNone\u001b[0m      \u001b[1;36m0.88\u001b[0m   \n",
       "LabelSpreading                     \u001b[1;36m0.79\u001b[0m               \u001b[1;36m0.78\u001b[0m    \u001b[3;35mNone\u001b[0m      \u001b[1;36m0.79\u001b[0m   \n",
       "LabelPropagation                   \u001b[1;36m0.79\u001b[0m               \u001b[1;36m0.78\u001b[0m    \u001b[3;35mNone\u001b[0m      \u001b[1;36m0.79\u001b[0m   \n",
       "KNeighborsClassifier               \u001b[1;36m0.78\u001b[0m               \u001b[1;36m0.77\u001b[0m    \u001b[3;35mNone\u001b[0m      \u001b[1;36m0.78\u001b[0m   \n",
       "NuSVC                              \u001b[1;36m0.70\u001b[0m               \u001b[1;36m0.69\u001b[0m    \u001b[3;35mNone\u001b[0m      \u001b[1;36m0.70\u001b[0m   \n",
       "SVC                                \u001b[1;36m0.69\u001b[0m               \u001b[1;36m0.67\u001b[0m    \u001b[3;35mNone\u001b[0m      \u001b[1;36m0.68\u001b[0m   \n",
       "AdaBoostClassifier                 \u001b[1;36m0.66\u001b[0m               \u001b[1;36m0.62\u001b[0m    \u001b[3;35mNone\u001b[0m      \u001b[1;36m0.65\u001b[0m   \n",
       "LinearDiscriminantAnalysis         \u001b[1;36m0.58\u001b[0m               \u001b[1;36m0.57\u001b[0m    \u001b[3;35mNone\u001b[0m      \u001b[1;36m0.58\u001b[0m   \n",
       "LinearSVC                          \u001b[1;36m0.58\u001b[0m               \u001b[1;36m0.56\u001b[0m    \u001b[3;35mNone\u001b[0m      \u001b[1;36m0.57\u001b[0m   \n",
       "CalibratedClassifierCV             \u001b[1;36m0.57\u001b[0m               \u001b[1;36m0.56\u001b[0m    \u001b[3;35mNone\u001b[0m      \u001b[1;36m0.56\u001b[0m   \n",
       "RidgeClassifier                    \u001b[1;36m0.55\u001b[0m               \u001b[1;36m0.54\u001b[0m    \u001b[3;35mNone\u001b[0m      \u001b[1;36m0.55\u001b[0m   \n",
       "RidgeClassifierCV                  \u001b[1;36m0.55\u001b[0m               \u001b[1;36m0.54\u001b[0m    \u001b[3;35mNone\u001b[0m      \u001b[1;36m0.55\u001b[0m   \n",
       "LogisticRegression                 \u001b[1;36m0.55\u001b[0m               \u001b[1;36m0.53\u001b[0m    \u001b[3;35mNone\u001b[0m      \u001b[1;36m0.54\u001b[0m   \n",
       "PassiveAggressiveClassifier        \u001b[1;36m0.51\u001b[0m               \u001b[1;36m0.51\u001b[0m    \u001b[3;35mNone\u001b[0m      \u001b[1;36m0.51\u001b[0m   \n",
       "NearestCentroid                    \u001b[1;36m0.52\u001b[0m               \u001b[1;36m0.51\u001b[0m    \u001b[3;35mNone\u001b[0m      \u001b[1;36m0.51\u001b[0m   \n",
       "SGDClassifier                      \u001b[1;36m0.50\u001b[0m               \u001b[1;36m0.50\u001b[0m    \u001b[3;35mNone\u001b[0m      \u001b[1;36m0.50\u001b[0m   \n",
       "Perceptron                         \u001b[1;36m0.43\u001b[0m               \u001b[1;36m0.44\u001b[0m    \u001b[3;35mNone\u001b[0m      \u001b[1;36m0.43\u001b[0m   \n",
       "BernoulliNB                        \u001b[1;36m0.42\u001b[0m               \u001b[1;36m0.40\u001b[0m    \u001b[3;35mNone\u001b[0m      \u001b[1;36m0.41\u001b[0m   \n",
       "GaussianNB                         \u001b[1;36m0.44\u001b[0m               \u001b[1;36m0.37\u001b[0m    \u001b[3;35mNone\u001b[0m      \u001b[1;36m0.32\u001b[0m   \n",
       "QuadraticDiscriminantAnalysis      \u001b[1;36m0.44\u001b[0m               \u001b[1;36m0.37\u001b[0m    \u001b[3;35mNone\u001b[0m      \u001b[1;36m0.30\u001b[0m   \n",
       "DummyClassifier                    \u001b[1;36m0.40\u001b[0m               \u001b[1;36m0.33\u001b[0m    \u001b[3;35mNone\u001b[0m      \u001b[1;36m0.23\u001b[0m   \n",
       "\n",
       "                               Time Taken  \n",
       "Model                                      \n",
       "RandomForestClassifier               \u001b[1;36m0.40\u001b[0m  \n",
       "XGBClassifier                        \u001b[1;36m0.26\u001b[0m  \n",
       "LGBMClassifier                       \u001b[1;36m0.43\u001b[0m  \n",
       "DecisionTreeClassifier               \u001b[1;36m0.01\u001b[0m  \n",
       "BaggingClassifier                    \u001b[1;36m0.08\u001b[0m  \n",
       "ExtraTreesClassifier                 \u001b[1;36m0.27\u001b[0m  \n",
       "ExtraTreeClassifier                  \u001b[1;36m0.03\u001b[0m  \n",
       "LabelSpreading                       \u001b[1;36m0.10\u001b[0m  \n",
       "LabelPropagation                     \u001b[1;36m0.11\u001b[0m  \n",
       "KNeighborsClassifier                 \u001b[1;36m0.04\u001b[0m  \n",
       "NuSVC                                \u001b[1;36m0.20\u001b[0m  \n",
       "SVC                                  \u001b[1;36m0.12\u001b[0m  \n",
       "AdaBoostClassifier                   \u001b[1;36m0.28\u001b[0m  \n",
       "LinearDiscriminantAnalysis           \u001b[1;36m0.03\u001b[0m  \n",
       "LinearSVC                            \u001b[1;36m0.04\u001b[0m  \n",
       "CalibratedClassifierCV               \u001b[1;36m0.25\u001b[0m  \n",
       "RidgeClassifier                      \u001b[1;36m0.02\u001b[0m  \n",
       "RidgeClassifierCV                    \u001b[1;36m0.04\u001b[0m  \n",
       "LogisticRegression                   \u001b[1;36m0.05\u001b[0m  \n",
       "PassiveAggressiveClassifier          \u001b[1;36m0.03\u001b[0m  \n",
       "NearestCentroid                      \u001b[1;36m0.03\u001b[0m  \n",
       "SGDClassifier                        \u001b[1;36m0.02\u001b[0m  \n",
       "Perceptron                           \u001b[1;36m0.03\u001b[0m  \n",
       "BernoulliNB                          \u001b[1;36m0.05\u001b[0m  \n",
       "GaussianNB                           \u001b[1;36m0.02\u001b[0m  \n",
       "QuadraticDiscriminantAnalysis        \u001b[1;36m0.00\u001b[0m  \n",
       "DummyClassifier                      \u001b[1;36m0.03\u001b[0m  \n"
      ]
     },
     "metadata": {},
     "output_type": "display_data"
    }
   ],
   "source": [
    "import pandas as pd\n",
    "from sklearn.model_selection import train_test_split\n",
    "from lazypredict.Supervised import LazyClassifier\n",
    "\n",
    "# Charger les données depuis votre base de données bouake_korhogo\n",
    "# Supposons que votre base de données est stockée dans un fichier CSV\n",
    "# et que vous lisez les données dans un DataFrame\n",
    "data = lire_feuille_fichier(fichiers['b_k_imputed'],'bki')\n",
    "\n",
    "# Supposons que vos caractéristiques sont dans les colonnes de 0 à -2 et les étiquettes dans la dernière colonne\n",
    "X = data.iloc[:, :-1].values\n",
    "y = data.iloc[:, -1].values\n",
    "\n",
    "# Afficher les dimensions initiales\n",
    "print(f'Dimensions de X: {X.shape}')\n",
    "print(f'Dimensions de y: {y.shape}')\n",
    "\n",
    "# Division des données en ensembles d'entraînement et de test\n",
    "X_train, X_test, y_train, y_test = train_test_split(X, y, test_size=0.2, random_state=0)\n",
    "\n",
    "# Vérifier les dimensions après le découpage\n",
    "print(f'Dimensions de X_train: {X_train.shape}')\n",
    "print(f'Dimensions de y_train: {y_train.shape}')\n",
    "\n",
    "# Initialiser LazyClassifier\n",
    "clf = LazyClassifier(verbose=0, ignore_warnings=True, custom_metric=None)\n",
    "\n",
    "# Vérifier et corriger les dimensions si nécessaire\n",
    "if len(X_train) != len(y_train):\n",
    "    min_len = min(len(X_train), len(y_train))\n",
    "    X_train = X_train[:min_len]\n",
    "    y_train = y_train[:min_len]\n",
    "\n",
    "# Réessayer avec les données corrigées\n",
    "models, predictions = clf.fit(X_train, X_test, y_train, y_test)\n",
    "\n",
    "# Afficher les résultats\n",
    "print(models)"
   ]
  },
  {
   "cell_type": "markdown",
   "metadata": {},
   "source": [
    "# Nous allons entrainer notre modèle"
   ]
  },
  {
   "cell_type": "code",
   "execution_count": null,
   "metadata": {},
   "outputs": [],
   "source": [
    "# avec la méthode fit\n",
    "model.fit( x,y)"
   ]
  },
  {
   "cell_type": "code",
   "execution_count": null,
   "metadata": {},
   "outputs": [],
   "source": [
    "# avec la méthode score\n",
    "model.score(x,y)"
   ]
  },
  {
   "cell_type": "code",
   "execution_count": null,
   "metadata": {},
   "outputs": [],
   "source": [
    "# avec la méthode prédict pour voir les PRO qui sont ou ne sont pas utilisés dans le maraîchage\n",
    "model.predict(y)"
   ]
  },
  {
   "cell_type": "code",
   "execution_count": null,
   "metadata": {},
   "outputs": [],
   "source": [
    "# nous allons définir une fonction usage pour voir si oui ou non les PRO qui sont utilisés dans le maraîchage\n",
    "def usage (model, Secteur_activite=3, Type=0, Utilisation=4 ):\n",
    "    x = np.array([Secteur_activite,Type,Utilisation]).reshape(1,3)\n",
    "    # pour voir la probabilité de la prédiction\n",
    "    print(model.predict_proba(x))"
   ]
  },
  {
   "cell_type": "markdown",
   "metadata": {},
   "source": [
    "# Division du dataset en 2 parties en utilisant de train set et de test set"
   ]
  },
  {
   "cell_type": "code",
   "execution_count": null,
   "metadata": {},
   "outputs": [],
   "source": [
    "# importation du package\n",
    "from sklearn.model_selection import train_test_split, cross_val_score, GridSearchCV, learning_curve, KFold,StratifiedKFold, ShuffleSplit, LeaveOneOut\n",
    "x_train,y_train,x_test,y_test = train_test_split(x,y,test_size=0.2, random_state=0)\n",
    "#initiation du modèle et k représente la valeur qui donne la meilleure performance de notre dataset\n",
    "model = KNeighborsClassifier(n_neighbors='f')\n",
    "model.fit(x_test, y_test)\n",
    "print('train score', model.score(x_train,y_train))\n",
    "\n",
    "# application de cross-validation pour pouvoir entrainer et valider les découpes du train set\n",
    "val_score =[]\n",
    "for i in range(1,50):\n",
    "    score =cross_val_score(KNeighborsClassifier(n_neighbors=k), x_train, y_train, cv=5, scoring='accuracy').mean()\n",
    "    val_score.append(score)\n",
    "# pour visualiser sur une figure\n",
    "plt.plot(val_score)\n",
    "\n",
    "# utilisation de gridseachcv pour construire la grille de modèles avec toutes les combinaisons d'hyperparamètres présent dans param__grid\n",
    "param_grid ={'n_neighbor': np.arange(1,20),\n",
    "             'metric': ['Ecludean', 'Manhattan']}\n",
    "grid = GridSearchCV(KNeighborsClassifier(), param_grid, cv=5)\n",
    "grid.fit(x_train,y_train)\n",
    "\n",
    "# pour voir le best score\n",
    "grid.best_score_\n",
    "\n",
    "#utilisation des courbes de variables pour montrer l'évolution du modèle en fonction des données futures\n",
    "fig = learning_curve(model, x_train, y_train, train_sizes=np.linspace(0.2,1.0,5),cv=5)\n",
    "\n",
    "# utilisation de la technique kfold pour des classe déséquilibrée\n",
    "cv = KFold(5,random_state=0)\n",
    "cross_val_score(KNeighborsClassifier(), x,y, cv=(6))\n",
    "\n",
    "# utilisation de LeaveOneOut permet de prendre dans train set variable par variable pour l'entrainer afin de valider\n",
    "v =[]\n",
    "for v in np.arange(3,4):\n",
    "    cv = LeaveOneOut()\n",
    "    voiz=cross_val_score(KNeighborsClassifier(), x,y,cv=(v))\n",
    "    v.append(voiz)\n",
    "plt.plot(v)\n",
    "\n",
    "# Utilisation de ShuffleSplit pour permettre de découper aléatoirement les données dans trainset p fois\n",
    "cv1 = ShuffleSplit(4, test_size= 0.2)\n",
    "voiz=cross_val_score(KNeighborsClassifier(), x,y,cv=(v))\n",
    "\n",
    "# utilisation de Stratified KFold \n",
    "cv2=StratifiedKFold(4)\n",
    "voiz=cross_val_score(KNeighborsClassifier(), x,y,cv=(v))\n"
   ]
  },
  {
   "cell_type": "markdown",
   "metadata": {},
   "source": [
    "# Utilisation de scikit learn"
   ]
  },
  {
   "cell_type": "code",
   "execution_count": null,
   "metadata": {},
   "outputs": [],
   "source": [
    "import lazypredict\n",
    "\n",
    "from lazypredict.Supervised import LazyClassifier\n",
    "from sklearn.datasets import load_breast_cancer\n",
    "from sklearn.model_selection import train_test_split\n",
    "\n",
    "data = load_breast_cancer()\n",
    "X = data.data\n",
    "y= data.target\n",
    "\n",
    "X_train, X_test, y_train, y_test = train_test_split(X, y,test_size=.5,random_state =123)\n",
    "\n",
    "clf = LazyClassifier(verbose=0,ignore_warnings=True, custom_metric=None)\n",
    "models,predictions = clf.fit(X_train, X_test, y_train, y_test)\n",
    "print(models)"
   ]
  },
  {
   "cell_type": "code",
   "execution_count": null,
   "metadata": {},
   "outputs": [],
   "source": [
    "data"
   ]
  },
  {
   "cell_type": "code",
   "execution_count": null,
   "metadata": {},
   "outputs": [],
   "source": []
  },
  {
   "cell_type": "markdown",
   "metadata": {},
   "source": [
    "# Utilisation de KNNimputer pour remplacer les valeurs manquantes par celles des  voisins les plus proches"
   ]
  },
  {
   "cell_type": "code",
   "execution_count": null,
   "metadata": {},
   "outputs": [],
   "source": [
    "dfb"
   ]
  },
  {
   "cell_type": "markdown",
   "metadata": {},
   "source": [
    "# Analyse de données"
   ]
  },
  {
   "cell_type": "code",
   "execution_count": null,
   "metadata": {},
   "outputs": [],
   "source": [
    "%matplotlib inline\n",
    "sns.displot(dfb[\"C/N\"], kde=True)\n",
    "plt.title(\"Distribution de la variable cible Carbone\")\n",
    "plt.show()\n",
    "\n",
    "\n",
    "fig, ax = plt.subplots()\n",
    "ax.scatter(dfb[\"C\"], dfb[\"Quantité totale SS (en t)\"])\n",
    "line = mlines.Line2D([0,1],[0,1], color='red')\n",
    "transform = ax.transAxes\n",
    "line.set_transform(transform)\n",
    "ax.add_line(line)\n",
    "plt.xlabel(\"Azote\")\n",
    "plt.ylabel(\"le rapport\")\n",
    "plt.title(\"Evolution du carbone en fonction de l'azote\")\n",
    "plt.show()\n",
    "\n",
    "sns.heatmap(dfb.corr())\n",
    "plt.title (\"Matrice de correlation des variables du dataframe\")\n",
    "plt.show"
   ]
  },
  {
   "cell_type": "markdown",
   "metadata": {},
   "source": [
    "# Application du test de Pearson"
   ]
  },
  {
   "cell_type": "code",
   "execution_count": null,
   "metadata": {},
   "outputs": [],
   "source": [
    "pd.DataFrame(pearsonr(dfb[\"C (kg/t)\"],[\"N (kg/t)\"]), index=['pearson_coeff','p-value'], columns=['Test de Pearson'])"
   ]
  },
  {
   "cell_type": "markdown",
   "metadata": {},
   "source": [
    "# Trouver les valeurs manquantes par variable et les doublons"
   ]
  },
  {
   "cell_type": "code",
   "execution_count": null,
   "metadata": {},
   "outputs": [],
   "source": [
    "print(\"les valeurs manquantes par variables: \\n\", dfb.isna().sum())\n",
    "print(\"\\n\")\n",
    "print(\"le nombre de doublons: \\n\",dfb.duplicated().sum())"
   ]
  },
  {
   "cell_type": "markdown",
   "metadata": {},
   "source": [
    "# Découpage u jeu de données en un ensemble de traitement ou d'entrainement"
   ]
  },
  {
   "cell_type": "code",
   "execution_count": null,
   "metadata": {},
   "outputs": [],
   "source": [
    "# x_train, x_test, y_train, y_test = train_test_split(x,y, test_size=0.2, random_state=123)"
   ]
  },
  {
   "cell_type": "code",
   "execution_count": null,
   "metadata": {},
   "outputs": [],
   "source": [
    "# x.head()"
   ]
  },
  {
   "cell_type": "markdown",
   "metadata": {},
   "source": [
    "# Affectation des données aux variables"
   ]
  },
  {
   "cell_type": "code",
   "execution_count": null,
   "metadata": {},
   "outputs": [],
   "source": [
    "from sklearn.impute import KNNImputer\n",
    "imputer = KNNImputer(n_neighbors= 1)\n",
    "imputer.fit_transform(dfb)"
   ]
  },
  {
   "cell_type": "code",
   "execution_count": null,
   "metadata": {},
   "outputs": [],
   "source": [
    "# le target (y) représente dans notre dataset les différents usages des produits résiduels organiques (PRO)\n",
    "#y = \n"
   ]
  },
  {
   "cell_type": "code",
   "execution_count": null,
   "metadata": {},
   "outputs": [
    {
     "data": {
      "text/plain": [
       "float64    29\n",
       "object     13\n",
       "int64       3\n",
       "Name: count, dtype: int64"
      ]
     },
     "execution_count": 42,
     "metadata": {},
     "output_type": "execute_result"
    },
    {
     "data": {
      "image/png": "[encoded data removed]",
      "text/plain": [
       "<Figure size 640x480 with 1 Axes>"
      ]
     },
     "metadata": {},
     "output_type": "display_data"
    }
   ],
   "source": [
    "dfb.dtypes.value_counts().plot.pie()\n",
    "a=dfb.dtypes.value_counts(())\n",
    "a"
   ]
  },
  {
   "cell_type": "markdown",
   "metadata": {},
   "source": [
    "# On peut aussi affecter avec la fonction map() qui vient avec le package numpy"
   ]
  },
  {
   "cell_type": "code",
   "execution_count": null,
   "metadata": {},
   "outputs": [],
   "source": [
    "dfb.isnull()"
   ]
  },
  {
   "cell_type": "code",
   "execution_count": null,
   "metadata": {},
   "outputs": [],
   "source": [
    "dfb = dfb.fillna(dfb.mean())\n",
    "y=dfb[\"P (kg/t)\"] #la variable cible à prédire (\"Apprentissage supervisé\")\n",
    "x=dfb.drop(\"P (kg/t)\", axis=1) #variable explicative permettant de faire la prédiction\n",
    "x_train, x_test, y_train, y_test = train_test_split(x,y, test_size=0.2, random_state=0)\n",
    "scaler = StandardScaler()\n",
    "num =[\"C/N\",\"N (kg/t)\", \"Prix de vente SS (FCFA/kg)\", \"K (kg/t)\", \"C (kg/t)\",\"PRO\", \"Prix de vente SP (FCFA/kg)\", \"type\", \"Secteur d'activité\", \"QSP (t ou kL)\", \"QSS (t ou kL)\", \"Destination 1\", \"Destination 2\", \"Destination 3\", \"Destination 4\", \"Utilisation 1\", \"Utilisation 2\", \"Utilisation 3\", \"QA (t ou kL)\", \"Localisation (V1)\", \"Localisation (V2)\"]\n",
    "x_train[num] = scaler.fit_transform(x_train[num])\n",
    "x_test[num] = scaler.transform(x_test[num])\n",
    "reg = LinearRegression()\n",
    "reg.fit(x_train, y_train) \n",
    "y_pred_reg = reg.predict(x_test)\n",
    "# entre 0 et 1\n",
    "print(\"Score :\", r2_score(y_test, y_pred_reg))\n",
    "print(\"\\n\")\n",
    "print(\"Prédictions de y_test :\", y_pred_reg)\n",
    "fig, ax = plt.subplots()\n",
    "ax.scatter(y_test, y_pred_reg)\n",
    "line = mlines.Line2D([0,1],[0,1], color='red')\n",
    "transform = ax.transAxes\n",
    "line.set_transform(transform)\n",
    "ax.add_line(line)\n",
    "plt.title(\"Vrais rapports VS rapports prédits\")\n",
    "plt.show()\n"
   ]
  },
  {
   "cell_type": "markdown",
   "metadata": {},
   "source": [
    "# Cela va permettre d'afficher les différents tests effectués"
   ]
  },
  {
   "cell_type": "code",
   "execution_count": null,
   "metadata": {},
   "outputs": [],
   "source": [
    "# n est le nombre d'essais qu'on souhaite faire\n",
    "n ={}\n",
    "dfb = {f\"Test{i}\": np.random.randn(100) for i in range(n)}"
   ]
  },
  {
   "cell_type": "code",
   "execution_count": null,
   "metadata": {},
   "outputs": [],
   "source": [
    "# définition de la fonction f\n",
    "def f (x):\n",
    "    return x**2 + 3*x\n"
   ]
  },
  {
   "cell_type": "code",
   "execution_count": null,
   "metadata": {},
   "outputs": [],
   "source": [
    "# Utilisation de la fonction de minimisation\n",
    "# p est la valeur de départ\n",
    "def optimize ():\n",
    "    optimize.minimize (f , x0 =p)"
   ]
  },
  {
   "cell_type": "markdown",
   "metadata": {},
   "source": [
    "# Pour Korhogo"
   ]
  },
  {
   "cell_type": "code",
   "execution_count": null,
   "metadata": {},
   "outputs": [],
   "source": [
    "dfk = df_korhogo\n",
    "dfk"
   ]
  }
 ],
 "metadata": {
  "kernelspec": {
   "display_name": "marigo",
   "language": "python",
   "name": "python3"
  },
  "language_info": {
   "codemirror_mode": {
    "name": "ipython",
    "version": 3
   },
   "file_extension": ".py",
   "mimetype": "text/x-python",
   "name": "python",
   "nbconvert_exporter": "python",
   "pygments_lexer": "ipython3",
   "version": "3.12.3"
  }
 },
 "nbformat": 4,
 "nbformat_minor": 2
}
